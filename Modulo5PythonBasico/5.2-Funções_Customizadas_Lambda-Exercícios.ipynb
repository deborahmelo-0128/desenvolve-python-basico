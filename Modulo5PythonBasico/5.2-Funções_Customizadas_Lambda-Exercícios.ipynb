{
 "cells": [
  {
   "cell_type": "markdown",
   "id": "cbdff5a5",
   "metadata": {},
   "source": [
    "# Módulo 5 - Funções\n",
    "\n",
    "## Aulas 5.2 - Funções Customizadas e 5.4 Funções ```lambda```"
   ]
  },
  {
   "cell_type": "markdown",
   "id": "28a3fee2",
   "metadata": {},
   "source": [
    "### Q1.\n",
    "\n",
    "- Sabendo que o código a seguir calcula o fatorial de n, escreva uma função chamada ```fatorial()``` que recebe um inteiro ```n``` como parâmetro e retorna o resultado do fatorial de ```n```. \n",
    "- No programa principal, peça ao usuário o valor de ```n```, chame a sua função e imprima o retorno.\n",
    "\n",
    "```python\n",
    "fat = 1\n",
    "for i in range(1, n+1):\n",
    "    fat *= i \n",
    "```"
   ]
  },
  {
   "cell_type": "code",
   "execution_count": 2,
   "id": "6e4fe64e",
   "metadata": {},
   "outputs": [
    {
     "name": "stdout",
     "output_type": "stream",
     "text": [
      "720\n"
     ]
    }
   ],
   "source": [
    "## Escreva aqui o programa e execute a célula\n",
    "n = int(input())\n",
    "fatorial = 1\n",
    "for i in range(1, n + 1):\n",
    "    fatorial *= i\n",
    "print(fatorial) \n",
    "\n"
   ]
  },
  {
   "cell_type": "markdown",
   "id": "c0a1f599",
   "metadata": {},
   "source": [
    "### Q2.\n",
    "\n",
    "- Escreva uma função em Python chamada ```soma_quadrados``` que recebe dois números como parâmetros e retorna a soma dos seus quadrados. \n",
    "- No programa principal solicite ao usuário que insira dois números e utilize a função para exibir a soma dos quadrados."
   ]
  },
  {
   "cell_type": "code",
   "execution_count": 10,
   "id": "6dbddaad",
   "metadata": {},
   "outputs": [],
   "source": [
    "## Crie aqui a função soma_quadrados()\n",
    "def soma_quadrados(a, b):\n",
    "    \"\"\"Retorna a soma dos quadrados de dois números.\"\"\"\n",
    "    return a * a + b * b\n",
    "\n"
   ]
  },
  {
   "cell_type": "code",
   "execution_count": 11,
   "id": "9175a7da",
   "metadata": {},
   "outputs": [
    {
     "name": "stdout",
     "output_type": "stream",
     "text": [
      "A soma dos quadrados é: 45\n"
     ]
    }
   ],
   "source": [
    "## Certifique-se de executar a célula que define soma_quadrados() antes desta!\n",
    "# Definir a função caso a célula que a cria não tenha sido executada\n",
    "if 'soma_quadrados' not in globals():\n",
    "\tdef soma_quadrados(a, b):\n",
    "\t\t\"\"\"Retorna a soma dos quadrados de dois números.\"\"\"\n",
    "\t\treturn a * a + b * b\n",
    "\n",
    "# Usar variáveis existentes se já definidas no notebook, caso contrário solicitar entrada\n",
    "if 'a' not in globals():\n",
    "\ta = int(input(\"Digite o primeiro número: \"))\n",
    "if 'b' not in globals():\n",
    "\tb = int(input(\"Digite o segundo número: \"))\n",
    "\n",
    "print(\"A soma dos quadrados é:\", soma_quadrados(a, b))\n"
   ]
  },
  {
   "cell_type": "markdown",
   "id": "6ba34ce0",
   "metadata": {},
   "source": [
    "### Q3.\n",
    "\n",
    "- Crie uma função em Python chamada ```soma_digitos``` que recebe um número inteiro como parâmetro e retorna a soma dos seus dígitos. Por exemplo, para o número 123, a função deve retornar 6, $(1 + 2 + 3)$.\n",
    "    - O desafio aqui é separar os dígitos de um número inteiro usando operações aritméticas <br> <br>\n",
    "\n",
    "- No programa principal solicite ao usuário que insira um número e utilize a função ```soma_digitos``` para calcular e exibir a soma dos seus dígitos."
   ]
  },
  {
   "cell_type": "code",
   "execution_count": null,
   "id": "34838ebf",
   "metadata": {},
   "outputs": [],
   "source": [
    "## Crie aqui a função soma_digitos()\n",
    "def soma_digitos(numero):\n",
    "    \"\"\"Retorna a soma dos dígitos de um número inteiro.\"\"\"\n",
    "    return sum(int(digito) for digito in str(abs(numero)))  \n",
    "\n"
   ]
  },
  {
   "cell_type": "code",
   "execution_count": 13,
   "id": "27c35b21",
   "metadata": {},
   "outputs": [
    {
     "name": "stdout",
     "output_type": "stream",
     "text": [
      "A soma dos dígitos é: 9\n"
     ]
    }
   ],
   "source": [
    "## Escreva aqui o programa principal e execute a célula\n",
    "# Programa principal para usar soma_digitos()\n",
    "# Definir a função caso a célula que a cria não tenha sido executada\n",
    "if 'soma_digitos' not in globals():\n",
    "    def soma_digitos(numero):\n",
    "        \"\"\"Retorna a soma dos dígitos de um número inteiro.\"\"\"\n",
    "        return sum(int(digito) for digito in str(abs(numero)))  \n",
    "\n",
    "n = int(input(\"Digite um número inteiro: \"))\n",
    "print(\"A soma dos dígitos é:\", soma_digitos(n))\n",
    "\n"
   ]
  },
  {
   "cell_type": "markdown",
   "id": "c318b159",
   "metadata": {},
   "source": [
    "### Q4.\n",
    "\n",
    "- Crie a função ```inverteValor()``` que recebe um inteiro de qualquer tamanho e retorna esse valor invertido usando apenas operações aritméticas\n",
    "- Crie a função ```verificaInverso()``` que recebe o valor original e o valor invertido e retorna verdadeiro se ambos forem igualmente par ou igualmente ímpar. Retorne falso caso contrário.\n",
    "- No programa principal, peça um valor do usuário e imprima o retorno de ambas as funções.\n"
   ]
  },
  {
   "cell_type": "code",
   "execution_count": 2,
   "id": "e4e47d1d",
   "metadata": {},
   "outputs": [],
   "source": [
    "## Crie aqui as funções inverteValor() e verificaInverso()\n",
    "def inverteValor(n: int) -> int:\n",
    "    \"\"\"\n",
    "    Recebe um inteiro n e retorna o valor invertido usando apenas operações aritméticas.\n",
    "    Ex.: 123 -> 321, -120 -> -21, 0 -> 0\n",
    "    \"\"\"\n",
    "    if n == 0:\n",
    "        return 0\n",
    "    sinal = -1 if n < 0 else 1\n",
    "    n = abs(n)\n",
    "    invertido = 0\n",
    "    while n > 0:\n",
    "        invertido = invertido * 10 + (n % 10)\n",
    "        n //= 10\n",
    "    return sinal * invertido\n",
    "\n",
    "def verificaInverso(original: int, invertido: int) -> bool:\n",
    "    \"\"\"\n",
    "    Retorna True se original e invertido forem ambos pares ou ambos ímpares.\n",
    "    Caso contrário retorna False.\n",
    "    \"\"\"\n",
    "    return (original % 2) == (invertido % 2)\n",
    "\n"
   ]
  },
  {
   "cell_type": "code",
   "execution_count": 3,
   "id": "a9514e56",
   "metadata": {},
   "outputs": [
    {
     "name": "stdout",
     "output_type": "stream",
     "text": [
      "Valor invertido: 17896\n",
      "Ambos são igualmente par ou ímpar? False\n"
     ]
    }
   ],
   "source": [
    "## Escreva aqui o programa principal e execute a célula\n",
    "valor = int(input(\"Digite um valor inteiro: \"))\n",
    "invertido = inverteValor(valor)\n",
    "print(\"Valor invertido:\", invertido)\n",
    "print(\"Ambos são igualmente par ou ímpar?\", verificaInverso(valor, invertido))\n"
   ]
  },
  {
   "cell_type": "markdown",
   "id": "329be966",
   "metadata": {},
   "source": [
    "### Q5.\n",
    "\n",
    "Você está desenvolvendo um programa para auxiliar em cálculos de geometria básica. Crie as seguintes funções:\n",
    "- A função ```calcula_perimetro_triangulo()``` que recebe três inteiros correspondentes aos lados de um triângulo e retorna o perímetro do triângulo, ou seja, a soma dos seus lados.\n",
    "- A função ```calcula_perimetro_circulo()``` que recebe um inteiro referente ao raio do círculo e retorna o perímetro do círculo, dado por $2 \\pi r$. Use a constante $\\pi$ da biblioteca ```math```.\n",
    "- A função ```calcula_perimetro_retangulo()``` que possui um parâmetro obrigatório ```lado1``` e um opcional ```lado2```, ambos inteiros. Se o valor opcional não for fornecido, significa que se trata de um quadrado. Sua função deve calcular e retornar o perímetro do retângulo, ou seja, a soma de seus lados. \n",
    "    - Para o quadrado, é dado por $4 \\times lado1$\n",
    "    - Para o retângulo é dado por $2 \\times lado1 + 2 \\times lado2$\n",
    "    \n",
    "- No programa principal apresente um menu com as opções disponíveis do seu sistema e uma quarta opção ```Sair```. Solicite ao usuário a opção desejada, solicite as entradas correspondentes à opção escolhida, invoque a respective função e apresente o seu retorno. Seu programa deve retornar ao menu até que o usuário escolha a opção ```Sair```\n",
    "\n",
    "Exemplo de interação:\n",
    "```\n",
    "1 - Calcular perímetro triângulo\n",
    "2 - Calcular perímetro círculo\n",
    "3 - Calcular perímetro retângulo\n",
    "4 - Sair\n",
    "\n",
    "Opção: 1\n",
    "Digite os três lados do triângulo:\n",
    "3\n",
    "4\n",
    "5\n",
    "O perímetro é: 12\n",
    "\n",
    "1 - Calcular perímetro triângulo\n",
    "2 - Calcular perímetro círculo\n",
    "3 - Calcular perímetro retângulo\n",
    "4 - Sair\n",
    "\n",
    "Opção: 3\n",
    "Informe os dois lados do retângulo. Se for um quadrado, digite 0 para o segundo valor:\n",
    "5\n",
    "0\n",
    "O perímetro é: 20\n",
    "\n",
    "1 - Calcular perímetro triângulo\n",
    "2 - Calcular perímetro círculo\n",
    "3 - Calcular perímetro retângulo\n",
    "4 - Sair\n",
    "\n",
    "Opção: 4\n",
    "```"
   ]
  },
  {
   "cell_type": "code",
   "execution_count": null,
   "id": "0793d328",
   "metadata": {},
   "outputs": [],
   "source": [
    "import math\n",
    "\n",
    "## Crie aqui as funções       \n",
    "\n",
    "def calcula_perimetro_triangulo(lado1, lado2, lado3):\n",
    "    \"\"\"Retorna o perímetro de um triângulo dado seus três lados.\"\"\"\n",
    "    return lado1 + lado2 + lado3\n",
    "\n",
    "def calcula_perimetro_circulo(raio):\n",
    "    \"\"\"Retorna o perímetro de um círculo dado seu raio.\"\"\"\n",
    "    return 2 * math.pi * raio\n",
    "\n",
    "def calcula_perimetro_retangulo(lado1, lado2=None):\n",
    "    \"\"\"\n",
    "    Retorna o perímetro de um retângulo ou quadrado.\n",
    "    Se lado2 não for fornecido ou for 0, calcula como quadrado.\n",
    "    \"\"\"\n",
    "    if lado2 is None or lado2 == 0:\n",
    "        return 4 * lado1\n",
    "    else:\n",
    "        return 2 * lado1 + 2 * lado2\n"
   ]
  },
  {
   "cell_type": "code",
   "execution_count": 16,
   "id": "36269c71",
   "metadata": {},
   "outputs": [
    {
     "name": "stdout",
     "output_type": "stream",
     "text": [
      "\n",
      "1 - Calcular perímetro triângulo\n",
      "2 - Calcular perímetro círculo\n",
      "3 - Calcular perímetro retângulo\n",
      "4 - Sair\n",
      "\n",
      "Digite os três lados do triângulo:\n",
      "O perímetro é: 6\n",
      "\n",
      "1 - Calcular perímetro triângulo\n",
      "2 - Calcular perímetro círculo\n",
      "3 - Calcular perímetro retângulo\n",
      "4 - Sair\n",
      "\n",
      "O perímetro é: 18.84955592153876\n",
      "\n",
      "1 - Calcular perímetro triângulo\n",
      "2 - Calcular perímetro círculo\n",
      "3 - Calcular perímetro retângulo\n",
      "4 - Sair\n",
      "\n",
      "Informe os dois lados do retângulo. Se for um quadrado, digite 0 para o segundo valor:\n",
      "O perímetro é: 26\n",
      "\n",
      "1 - Calcular perímetro triângulo\n",
      "2 - Calcular perímetro círculo\n",
      "3 - Calcular perímetro retângulo\n",
      "4 - Sair\n",
      "\n"
     ]
    }
   ],
   "source": [
    "## Escreva aqui o programa principal \n",
    "\n",
    "# Garantir que as funções de perímetro existam caso a célula que as define não tenha sido executada\n",
    "if ('calcula_perimetro_triangulo' not in globals()\n",
    "    or 'calcula_perimetro_circulo' not in globals()\n",
    "    or 'calcula_perimetro_retangulo' not in globals()):\n",
    "    if 'math' not in globals():\n",
    "        import math\n",
    "\n",
    "    def calcula_perimetro_triangulo(lado1, lado2, lado3):\n",
    "        \"\"\"Retorna o perímetro de um triângulo dado seus três lados.\"\"\"\n",
    "        return lado1 + lado2 + lado3\n",
    "\n",
    "    def calcula_perimetro_circulo(raio):\n",
    "        \"\"\"Retorna o perímetro de um círculo dado seu raio.\"\"\"\n",
    "        return 2 * math.pi * raio\n",
    "\n",
    "    def calcula_perimetro_retangulo(lado1, lado2=None):\n",
    "        \"\"\"\n",
    "        Retorna o perímetro de um retângulo ou quadrado.\n",
    "        Se lado2 não for fornecido ou for 0, calcula como quadrado.\n",
    "        \"\"\"\n",
    "        if lado2 is None or lado2 == 0:\n",
    "            return 4 * lado1\n",
    "        else:\n",
    "            return 2 * lado1 + 2 * lado2\n",
    "\n",
    "while True:\n",
    "    print(\"\\n1 - Calcular perímetro triângulo\")\n",
    "    print(\"2 - Calcular perímetro círculo\")\n",
    "    print(\"3 - Calcular perímetro retângulo\")\n",
    "    print(\"4 - Sair\\n\")\n",
    "    try:\n",
    "        opcao = int(input(\"Opção: \"))\n",
    "    except ValueError:\n",
    "        print(\"Opção inválida. Digite um número de 1 a 4.\")\n",
    "        continue\n",
    "\n",
    "    if opcao == 1:\n",
    "        print(\"Digite os três lados do triângulo:\")\n",
    "        try:\n",
    "            l1 = int(input())\n",
    "            l2 = int(input())\n",
    "            l3 = int(input())\n",
    "        except ValueError:\n",
    "            print(\"Entradas inválidas. Informe inteiros.\")\n",
    "            continue\n",
    "        per = calcula_perimetro_triangulo(l1, l2, l3)\n",
    "        print(\"O perímetro é:\", per)\n",
    "\n",
    "    elif opcao == 2:\n",
    "        try:\n",
    "            raio = int(input(\"Digite o raio do círculo: \"))\n",
    "        except ValueError:\n",
    "            print(\"Entrada inválida. Informe um inteiro.\")\n",
    "            continue\n",
    "        per = calcula_perimetro_circulo(raio)\n",
    "        print(\"O perímetro é:\", per)\n",
    "\n",
    "    elif opcao == 3:\n",
    "        print(\"Informe os dois lados do retângulo. Se for um quadrado, digite 0 para o segundo valor:\")\n",
    "        try:\n",
    "            lado1 = int(input())\n",
    "            lado2 = int(input())\n",
    "        except ValueError:\n",
    "            print(\"Entradas inválidas. Informe inteiros.\")\n",
    "            continue\n",
    "        per = calcula_perimetro_retangulo(lado1, lado2)\n",
    "        print(\"O perímetro é:\", per)\n",
    "\n",
    "    elif opcao == 4:\n",
    "        break\n",
    "\n",
    "    else:\n",
    "        print(\"Opção inválida. Escolha entre 1 e 4.\")\n"
   ]
  },
  {
   "cell_type": "markdown",
   "id": "3016bcc7",
   "metadata": {},
   "source": [
    "## Funções ```lambda```"
   ]
  },
  {
   "cell_type": "markdown",
   "id": "f9cdb8dd",
   "metadata": {},
   "source": [
    "### Q6.\n",
    "\n",
    "Crie uma função lambda para verificar se um número é par ou ímpar. Em seguida, solicite ao usuário um número indefinidos de valores (até que o usuário digite 0). Para cada valor de entrada, informe se é par ou ímpar.\n",
    "\n",
    "Exemplo de interação:\n",
    "```\n",
    "Digite os valores que deseja verificar a paridade (digite 0 para finalizar a entrada de dados):\n",
    "3\n",
    "ímpar\n",
    "8\n",
    "par\n",
    "12\n",
    "par\n",
    "5\n",
    "ímpar\n",
    "7ímpar\n",
    "```"
   ]
  },
  {
   "cell_type": "code",
   "execution_count": 29,
   "id": "e3c31a78",
   "metadata": {},
   "outputs": [
    {
     "name": "stdout",
     "output_type": "stream",
     "text": [
      " Digite um número inteiro para verificar se é par ou ímpar. Digite 0 para finalizar a entrada de dados.\n",
      "O número 25 é Ímpar.\n",
      "O número 50 é Par.\n",
      "O número 35 é Ímpar.\n",
      "O número 54 é Par.\n"
     ]
    }
   ],
   "source": [
    "#Função lambda para verificar paridade\n",
    "verifica_paridade = lambda x: \"Par\" if x % 2 == 0 else \"Ímpar\"\n",
    "\n",
    "print (\" Digite um número inteiro para verificar se é par ou ímpar. Digite 0 para finalizar a entrada de dados.\")\n",
    "while True:\n",
    "    try:\n",
    "        numero = int(input(\"Número: \"))\n",
    "        if numero == 0:\n",
    "            break\n",
    "        resultado = verifica_paridade(numero)\n",
    "        print(f\"O número {numero} é {resultado}.\")\n",
    "    except ValueError:\n",
    "        print(\"Entrada inválida. Por favor, digite um número inteiro.\")\n",
    "        "
   ]
  },
  {
   "cell_type": "markdown",
   "id": "5a87474d",
   "metadata": {},
   "source": [
    "### Q7.\n",
    "\n",
    "Escreva um programa que pergunte ao usuário qual operação ele deseja: maior ou menor.\n",
    "Em seguida leia uma quantidade indefinida de valores do usuário, até que o usuário digite o valor zero.\n",
    "Apresente ao final o maior ou menor dos valores digitados de acordo com a escolha do usuário.\n",
    "\n",
    "**Sua solução deve incluir pelo menos uma função ```lambda```** \n",
    "\n",
    "Exemplo de interação:\n",
    "```\n",
    "Opções: (1) maior ou (2) menor?\n",
    "Opção: 1\n",
    "\n",
    "Digite os valores de entrada. Digite 0 para finalizar a entrada de valores.\n",
    "4\n",
    "12\n",
    "15\n",
    "1\n",
    "0\n",
    "\n",
    "O maior valor é: 15\n",
    "```"
   ]
  },
  {
   "cell_type": "code",
   "execution_count": 28,
   "id": "ee3f68ca",
   "metadata": {},
   "outputs": [
    {
     "name": "stdout",
     "output_type": "stream",
     "text": [
      "Resultado: 90\n"
     ]
    }
   ],
   "source": [
    "## Escreva aqui o programa principal \n",
    "op = int(input(\"(1) maior ou (2) menor?\"))\n",
    "if op == 1:\n",
    "    result = float (\"-inf\")\n",
    "    op_function = lambda a, b: a > b\n",
    "else:\n",
    "    result = float (\"inf\")\n",
    "    op_function = lambda a, b: a < b\n",
    "\n",
    "while True:\n",
    "    x = int(input())    \n",
    "    if x == 0: break\n",
    "\n",
    "    if op_function(x, result):\n",
    "        result = x\n",
    "print(\"Resultado:\", result) \n"
   ]
  }
 ],
 "metadata": {
  "kernelspec": {
   "display_name": "Python 3",
   "language": "python",
   "name": "python3"
  },
  "language_info": {
   "codemirror_mode": {
    "name": "ipython",
    "version": 3
   },
   "file_extension": ".py",
   "mimetype": "text/x-python",
   "name": "python",
   "nbconvert_exporter": "python",
   "pygments_lexer": "ipython3",
   "version": "3.13.7"
  }
 },
 "nbformat": 4,
 "nbformat_minor": 5
}
