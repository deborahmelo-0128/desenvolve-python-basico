{
 "cells": [
  {
   "cell_type": "code",
   "execution_count": 3,
   "id": "f2ede57e-e40b-496a-84cc-f607044e4923",
   "metadata": {},
   "outputs": [
    {
     "name": "stdout",
     "output_type": "stream",
     "text": [
      " 3\n",
      " 18\n",
      " 21\n",
      " 30\n"
     ]
    },
    {
     "name": "stdout",
     "output_type": "stream",
     "text": [
      "69\n",
      "23.0\n"
     ]
    }
   ],
   "source": [
    "n = int(input())\n",
    "\n",
    "# inicializar as variaveis\n",
    "soma= 0 # resultado ->soma\n",
    "cont = 0 # variavel de controle do laço\n",
    "\n",
    "while cont < n:\n",
    "    idade = int(input())\n",
    "    soma += idade #soma = soma + idade\n",
    "\n",
    "    # atualizando a variavel de controle do laço\n",
    "    cont += 1 # cont = cont + 1\n",
    "\n",
    "# imprimir a media\n",
    "print(soma)\n",
    "print(soma/n)\n"
   ]
  },
  {
   "cell_type": "code",
   "execution_count": null,
   "id": "dc17ab06-0406-483c-bca5-0195acd7e5e8",
   "metadata": {},
   "outputs": [],
   "source": []
  }
 ],
 "metadata": {
  "kernelspec": {
   "display_name": "Python 3 (ipykernel)",
   "language": "python",
   "name": "python3"
  },
  "language_info": {
   "codemirror_mode": {
    "name": "ipython",
    "version": 3
   },
   "file_extension": ".py",
   "mimetype": "text/x-python",
   "name": "python",
   "nbconvert_exporter": "python",
   "pygments_lexer": "ipython3",
   "version": "3.13.7"
  }
 },
 "nbformat": 4,
 "nbformat_minor": 5
}
