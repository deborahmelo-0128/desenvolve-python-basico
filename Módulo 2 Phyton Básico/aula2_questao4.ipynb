{
 "cells": [
  {
   "cell_type": "code",
   "execution_count": 2,
   "id": "77546875-4aff-4fbe-9af7-6bc441f5d7a7",
   "metadata": {},
   "outputs": [
    {
     "name": "stdout",
     "output_type": "stream",
     "text": [
      "após 3 meses meu novo saldo é\n",
      "1515.0\n"
     ]
    }
   ],
   "source": [
    "juros=1.01\n",
    "saldo=500.0\n",
    "r1= saldo*juros\n",
    "r2= saldo*juros*3\n",
    "print(\"após 3 meses meu novo saldo é\")\n",
    "print (r2)"
   ]
  },
  {
   "cell_type": "code",
   "execution_count": null,
   "id": "c25dcf08-645c-48cb-9874-db93bf92e004",
   "metadata": {},
   "outputs": [],
   "source": []
  }
 ],
 "metadata": {
  "kernelspec": {
   "display_name": "Python 3 (ipykernel)",
   "language": "python",
   "name": "python3"
  },
  "language_info": {
   "codemirror_mode": {
    "name": "ipython",
    "version": 3
   },
   "file_extension": ".py",
   "mimetype": "text/x-python",
   "name": "python",
   "nbconvert_exporter": "python",
   "pygments_lexer": "ipython3",
   "version": "3.13.1"
  }
 },
 "nbformat": 4,
 "nbformat_minor": 5
}
