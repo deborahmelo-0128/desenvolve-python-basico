{
 "cells": [
  {
   "cell_type": "code",
   "execution_count": 12,
   "id": "d9584cec-3e63-4a85-a37e-dcaeb1c5a7d5",
   "metadata": {},
   "outputs": [
    {
     "ename": "IndentationError",
     "evalue": "unexpected indent (3225186022.py, line 2)",
     "output_type": "error",
     "traceback": [
      "  \u001b[36mCell\u001b[39m\u001b[36m \u001b[39m\u001b[32mIn[12]\u001b[39m\u001b[32m, line 2\u001b[39m\n\u001b[31m    \u001b[39m\u001b[31ma= nome_completo\u001b[39m\n    ^\n\u001b[31mIndentationError\u001b[39m\u001b[31m:\u001b[39m unexpected indent\n"
     ]
    }
   ],
   "source": [
    "Q1\n",
    "    a= nome_completo\n",
    "    c= idade\n",
    "print (\"a c\")"
   ]
  },
  {
   "cell_type": "code",
   "execution_count": 7,
   "id": "5c8aa0a5-068e-450f-acc8-a07f88cbfb26",
   "metadata": {},
   "outputs": [
    {
     "name": "stdout",
     "output_type": "stream",
     "text": [
      "7\n"
     ]
    }
   ],
   "source": [
    "\n",
    "x=10\n",
    "y=x+2\n",
    "print (y-5)\n"
   ]
  },
  {
   "cell_type": "code",
   "execution_count": 8,
   "id": "4a945f8a-42c7-4e57-af7c-8c9448c5ca1f",
   "metadata": {},
   "outputs": [
    {
     "ename": "NameError",
     "evalue": "name 'n2' is not defined",
     "output_type": "error",
     "traceback": [
      "\u001b[31m---------------------------------------------------------------------------\u001b[39m",
      "\u001b[31mNameError\u001b[39m                                 Traceback (most recent call last)",
      "\u001b[36mCell\u001b[39m\u001b[36m \u001b[39m\u001b[32mIn[8]\u001b[39m\u001b[32m, line 1\u001b[39m\n\u001b[32m----> \u001b[39m\u001b[32m1\u001b[39m soma=n1=\u001b[43mn2\u001b[49m\n\u001b[32m      2\u001b[39m \u001b[38;5;28mprint\u001b[39m (soma)\n",
      "\u001b[31mNameError\u001b[39m: name 'n2' is not defined"
     ]
    }
   ],
   "source": [
    "soma=n1=n2\n",
    "print (soma)"
   ]
  },
  {
   "cell_type": "code",
   "execution_count": 9,
   "id": "5f6a0abb-d2b1-47de-98a1-0f5c13c0685c",
   "metadata": {},
   "outputs": [
    {
     "name": "stdout",
     "output_type": "stream",
     "text": [
      "11\n"
     ]
    }
   ],
   "source": [
    "a=10\n",
    "a=a+1\n",
    "print (a)"
   ]
  },
  {
   "cell_type": "code",
   "execution_count": 11,
   "id": "890794a6-596b-44a5-b1d8-0a420f0d724c",
   "metadata": {},
   "outputs": [
    {
     "ename": "SyntaxError",
     "evalue": "invalid syntax (2049472874.py, line 1)",
     "output_type": "error",
     "traceback": [
      "  \u001b[36mCell\u001b[39m\u001b[36m \u001b[39m\u001b[32mIn[11]\u001b[39m\u001b[32m, line 1\u001b[39m\n\u001b[31m    \u001b[39m\u001b[31msaldo da conta=1500\u001b[39m\n          ^\n\u001b[31mSyntaxError\u001b[39m\u001b[31m:\u001b[39m invalid syntax\n"
     ]
    }
   ],
   "source": [
    "saldo da conta=1500\n",
    "0.1=juros\n",
    "print (saldo da conta*juros)"
   ]
  },
  {
   "cell_type": "code",
   "execution_count": 15,
   "id": "338da64b-8b6f-4c99-9d6f-cafcdb584271",
   "metadata": {},
   "outputs": [
    {
     "name": "stdout",
     "output_type": "stream",
     "text": [
      "20\n"
     ]
    }
   ],
   "source": [
    "num1= 10\n",
    "num2= 20\n",
    "num3= 30\n",
    "média= 10+20+30/3\n",
    "média = 20\n",
    "print (média)"
   ]
  },
  {
   "cell_type": "code",
   "execution_count": 20,
   "id": "97a063a3-f426-4505-b767-92f6c5f436a4",
   "metadata": {},
   "outputs": [
    {
     "name": "stdout",
     "output_type": "stream",
     "text": [
      "25.0\n"
     ]
    }
   ],
   "source": [
    "a=90\n",
    "b=3.6\n",
    "c= a/b\n",
    "print (c)"
   ]
  },
  {
   "cell_type": "code",
   "execution_count": 23,
   "id": "db279d02-f911-467e-867b-027cad2f24ee",
   "metadata": {},
   "outputs": [
    {
     "name": "stdout",
     "output_type": "stream",
     "text": [
      "Meu nome é\n",
      "Deborah\n"
     ]
    }
   ],
   "source": [
    "n=\"Deborah\"\n",
    "print(\"Meu nome é\")\n",
    "print (n)"
   ]
  },
  {
   "cell_type": "code",
   "execution_count": null,
   "id": "ecff901c-b35b-48f2-9cce-ac39dff19f71",
   "metadata": {},
   "outputs": [],
   "source": []
  }
 ],
 "metadata": {
  "kernelspec": {
   "display_name": "Python 3 (ipykernel)",
   "language": "python",
   "name": "python3"
  },
  "language_info": {
   "codemirror_mode": {
    "name": "ipython",
    "version": 3
   },
   "file_extension": ".py",
   "mimetype": "text/x-python",
   "name": "python",
   "nbconvert_exporter": "python",
   "pygments_lexer": "ipython3",
   "version": "3.13.1"
  }
 },
 "nbformat": 4,
 "nbformat_minor": 5
}
