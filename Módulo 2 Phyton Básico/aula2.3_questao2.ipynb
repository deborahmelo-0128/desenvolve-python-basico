{
 "cells": [
  {
   "cell_type": "code",
   "execution_count": 2,
   "id": "9e1c2200-44ea-4de5-9f33-60b08d7c5394",
   "metadata": {},
   "outputs": [
    {
     "name": "stdout",
     "output_type": "stream",
     "text": [
      "salário semanal bruto é\n",
      "800\n",
      "salário líquido é\n",
      "680.0\n"
     ]
    }
   ],
   "source": [
    "sb=20*40\n",
    "print(\"salário semanal bruto é\")\n",
    "print (sb)\n",
    "\n",
    "sl= (20*40)- (10/100*20*40) - (5/100*20*40)\n",
    "print (\"salário líquido é\")\n",
    "print (sl)\n"
   ]
  },
  {
   "cell_type": "code",
   "execution_count": null,
   "id": "c03c16c9-6284-4d10-bf18-360b03f2e6cd",
   "metadata": {},
   "outputs": [],
   "source": []
  }
 ],
 "metadata": {
  "kernelspec": {
   "display_name": "Python 3 (ipykernel)",
   "language": "python",
   "name": "python3"
  },
  "language_info": {
   "codemirror_mode": {
    "name": "ipython",
    "version": 3
   },
   "file_extension": ".py",
   "mimetype": "text/x-python",
   "name": "python",
   "nbconvert_exporter": "python",
   "pygments_lexer": "ipython3",
   "version": "3.13.1"
  }
 },
 "nbformat": 4,
 "nbformat_minor": 5
}
