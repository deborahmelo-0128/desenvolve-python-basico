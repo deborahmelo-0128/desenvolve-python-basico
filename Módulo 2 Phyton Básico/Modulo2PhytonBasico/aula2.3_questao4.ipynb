{
 "cells": [
  {
   "cell_type": "code",
   "execution_count": 3,
   "id": "986b2b9e-8247-4bb1-9db6-a803920a9c9a",
   "metadata": {},
   "outputs": [
    {
     "name": "stdout",
     "output_type": "stream",
     "text": [
      "A velocidade média em metros por segundo para correr 42.195 km em 3 horas é\n",
      "50.634\n"
     ]
    }
   ],
   "source": [
    "d= 42.195/1000\n",
    "t= 3/3600\n",
    "v_media=d/t\n",
    "v_media= (42.195/1000)/(3/3600)\n",
    "print(\"A velocidade média em metros por segundo para correr 42.195 km em 3 horas é\")\n",
    "print (v_media)"
   ]
  },
  {
   "cell_type": "code",
   "execution_count": null,
   "id": "0ae44ffc-f79d-4338-81c0-98fb38b2e11b",
   "metadata": {},
   "outputs": [],
   "source": []
  }
 ],
 "metadata": {
  "kernelspec": {
   "display_name": "Python 3 (ipykernel)",
   "language": "python",
   "name": "python3"
  },
  "language_info": {
   "codemirror_mode": {
    "name": "ipython",
    "version": 3
   },
   "file_extension": ".py",
   "mimetype": "text/x-python",
   "name": "python",
   "nbconvert_exporter": "python",
   "pygments_lexer": "ipython3",
   "version": "3.13.1"
  }
 },
 "nbformat": 4,
 "nbformat_minor": 5
}
