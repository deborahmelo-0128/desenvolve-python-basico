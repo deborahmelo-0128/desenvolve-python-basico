{
 "cells": [
  {
   "cell_type": "code",
   "execution_count": 1,
   "id": "a7178888-9d35-48ae-8a84-8038f60bd075",
   "metadata": {},
   "outputs": [
    {
     "name": "stdout",
     "output_type": "stream",
     "text": [
      "o resultado é\n",
      "10\n",
      "3.5\n",
      "13.5\n",
      "<class 'str'>\n",
      "<class 'int'>\n",
      "<class 'float'>\n",
      "<class 'float'>\n"
     ]
    }
   ],
   "source": [
    "v1= \"o resultado é\"\n",
    "v2= 10\n",
    "v3= 3.5\n",
    "v4= v2+v3\n",
    "print (\"o resultado é\")\n",
    "print (v2)\n",
    "print (v3)\n",
    "print (v2+v3)\n",
    "print (type(v1))\n",
    "print (type(v2))\n",
    "print (type(v3))\n",
    "print (type(v4))"
   ]
  },
  {
   "cell_type": "code",
   "execution_count": null,
   "id": "4f2f7c3d-c0fb-40ad-a09e-843f76c2507c",
   "metadata": {},
   "outputs": [],
   "source": []
  }
 ],
 "metadata": {
  "kernelspec": {
   "display_name": "Python 3 (ipykernel)",
   "language": "python",
   "name": "python3"
  },
  "language_info": {
   "codemirror_mode": {
    "name": "ipython",
    "version": 3
   },
   "file_extension": ".py",
   "mimetype": "text/x-python",
   "name": "python",
   "nbconvert_exporter": "python",
   "pygments_lexer": "ipython3",
   "version": "3.13.1"
  }
 },
 "nbformat": 4,
 "nbformat_minor": 5
}
