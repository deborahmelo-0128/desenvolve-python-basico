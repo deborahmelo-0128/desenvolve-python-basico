{
 "cells": [
  {
   "cell_type": "code",
   "execution_count": 10,
   "id": "9da7355f-db71-474f-b966-7acdbb43ab8a",
   "metadata": {},
   "outputs": [
    {
     "name": "stdout",
     "output_type": "stream",
     "text": [
      "cinco mil reais equivale\n",
      "3449.9999999999995 cny\n"
     ]
    }
   ],
   "source": [
    "cny= 0.69*brl\n",
    "brl= 5000\n",
    "cny= 0.69 * 5000\n",
    "print(\"cinco mil reais equivale\")\n",
    "print (cny, \"cny\")"
   ]
  },
  {
   "cell_type": "code",
   "execution_count": null,
   "id": "54073b1e-302e-47b7-a238-698ce6e38b3e",
   "metadata": {},
   "outputs": [],
   "source": []
  },
  {
   "cell_type": "code",
   "execution_count": null,
   "id": "3fed22fc-080c-485c-94b9-fabf8452f588",
   "metadata": {},
   "outputs": [],
   "source": []
  }
 ],
 "metadata": {
  "kernelspec": {
   "display_name": "Python 3 (ipykernel)",
   "language": "python",
   "name": "python3"
  },
  "language_info": {
   "codemirror_mode": {
    "name": "ipython",
    "version": 3
   },
   "file_extension": ".py",
   "mimetype": "text/x-python",
   "name": "python",
   "nbconvert_exporter": "python",
   "pygments_lexer": "ipython3",
   "version": "3.13.1"
  }
 },
 "nbformat": 4,
 "nbformat_minor": 5
}
