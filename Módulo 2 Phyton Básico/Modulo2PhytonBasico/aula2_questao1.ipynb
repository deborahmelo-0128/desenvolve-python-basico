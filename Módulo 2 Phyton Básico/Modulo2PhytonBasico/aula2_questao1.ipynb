{
 "cells": [
  {
   "cell_type": "code",
   "execution_count": null,
   "id": "bb399622-3544-496e-a8e4-6c5f13574e00",
   "metadata": {},
   "outputs": [
    {
     "name": "stdout",
     "output_type": "stream",
     "text": [
      "<class 'int'>\n",
      "<class 'int'>\n",
      "2.5\n",
      "<class 'float'>\n"
     ]
    }
   ],
   "source": [
    "v1=5\n",
    "v2=2\n",
    "print (type(v1))\n",
    "print (type(v2))\n",
    "divisao=v1/v2\n",
    "print (divisao)\n",
    "print (type(divisao))"
   ]
  },
  {
   "cell_type": "code",
   "execution_count": null,
   "id": "35025727-91fe-407d-a805-8aca66528422",
   "metadata": {},
   "outputs": [],
   "source": []
  }
 ],
 "metadata": {
  "kernelspec": {
   "display_name": "Python 3 (ipykernel)",
   "language": "python",
   "name": "python3"
  },
  "language_info": {
   "codemirror_mode": {
    "name": "ipython",
    "version": 3
   },
   "file_extension": ".py",
   "mimetype": "text/x-python",
   "name": "python",
   "nbconvert_exporter": "python",
   "pygments_lexer": "ipython3",
   "version": "3.13.1"
  }
 },
 "nbformat": 4,
 "nbformat_minor": 5
}
