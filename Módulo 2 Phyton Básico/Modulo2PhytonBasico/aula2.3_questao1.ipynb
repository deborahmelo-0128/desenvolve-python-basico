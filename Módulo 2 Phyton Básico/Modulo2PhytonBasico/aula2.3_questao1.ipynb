{
 "cells": [
  {
   "cell_type": "code",
   "execution_count": 20,
   "id": "51d11222-6ce5-4d58-9975-d792d113e1ac",
   "metadata": {},
   "outputs": [
    {
     "name": "stdout",
     "output_type": "stream",
     "text": [
      "salário semanal é\n",
      "800\n",
      "Valor descontado de INSS é\n",
      "80.0\n",
      "valor descontado pelo sindicato é\n",
      "40.0\n",
      "salário semanal líquido é\n",
      "680.0\n"
     ]
    }
   ],
   "source": [
    "x=20\n",
    "h=40\n",
    "s= 20*40\n",
    "print (\"salário semanal é\")\n",
    "print (s)\n",
    "\n",
    "\n",
    "a= 0.1*s\n",
    "print (\"Valor descontado de INSS é\")\n",
    "print (a)\n",
    "\n",
    "y= 0.05*s\n",
    "print (\"valor descontado pelo sindicato é\")\n",
    "print (y)\n",
    "\n",
    "\n",
    "t= s-a-y\n",
    "print (\"salário semanal líquido é\")\n",
    "print (t)"
   ]
  },
  {
   "cell_type": "code",
   "execution_count": null,
   "id": "3f9d4e6f-1139-4dfe-b800-18ce100960b1",
   "metadata": {},
   "outputs": [],
   "source": []
  },
  {
   "cell_type": "code",
   "execution_count": null,
   "id": "9ad846d1-f3f7-4d8a-8f77-d15a22dd9280",
   "metadata": {},
   "outputs": [],
   "source": []
  }
 ],
 "metadata": {
  "kernelspec": {
   "display_name": "Python 3 (ipykernel)",
   "language": "python",
   "name": "python3"
  },
  "language_info": {
   "codemirror_mode": {
    "name": "ipython",
    "version": 3
   },
   "file_extension": ".py",
   "mimetype": "text/x-python",
   "name": "python",
   "nbconvert_exporter": "python",
   "pygments_lexer": "ipython3",
   "version": "3.13.1"
  }
 },
 "nbformat": 4,
 "nbformat_minor": 5
}
